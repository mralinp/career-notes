{
 "cells": [
  {
   "attachments": {},
   "cell_type": "markdown",
   "metadata": {},
   "source": [
    "# PyTorch Tutorial 01:Tensor Basics"
   ]
  },
  {
   "cell_type": "code",
   "execution_count": 1,
   "metadata": {},
   "outputs": [],
   "source": [
    "import torch"
   ]
  },
  {
   "attachments": {},
   "cell_type": "markdown",
   "metadata": {},
   "source": [
    "The very basic class in PyTorch library is the tensor class. almost Every variable and operation in PyTorch is represented by a tensor. You can look at the tensor as just like a numpy array or a multi-dimensional python list.\n",
    "Because of the mathematical nature of Machine Learning operations which are performed on lineralgebra, we need such a class to implement and use the calculations in python.\n",
    "\n",
    "Tensor can be used in CPU or GPU. Using GPU makes the calculations so much fater. To move the tensor to GPU, you have to use  `tensor.to('cuda')` or `tensor.to(device)` function.\n",
    "\n",
    "\n",
    "\n",
    "\n",
    "Creating tensors:"
   ]
  },
  {
   "cell_type": "code",
   "execution_count": 30,
   "metadata": {},
   "outputs": [
    {
     "name": "stdout",
     "output_type": "stream",
     "text": [
      "tensor([[ 1.0936,  1.1314,  0.9923, -0.1372],\n",
      "        [-0.4633,  0.1618,  0.1420,  0.7852],\n",
      "        [-0.2799, -0.5731,  1.3980, -1.0286],\n",
      "        [-1.5559, -0.8348,  1.2089, -0.2055]])\n"
     ]
    }
   ],
   "source": [
    "x = torch.randn(4,4)\n",
    "print(x)"
   ]
  },
  {
   "cell_type": "code",
   "execution_count": 31,
   "metadata": {},
   "outputs": [
    {
     "name": "stdout",
     "output_type": "stream",
     "text": [
      "tensor([ 1.0936, -0.4633, -0.2799, -1.5559])\n"
     ]
    }
   ],
   "source": [
    "print(x[:,0])"
   ]
  },
  {
   "cell_type": "code",
   "execution_count": 40,
   "metadata": {},
   "outputs": [
    {
     "name": "stdout",
     "output_type": "stream",
     "text": [
      "tensor([[[[ 1.0936,  1.1314],\n",
      "          [ 0.9923, -0.1372]],\n",
      "\n",
      "         [[-0.4633,  0.1618],\n",
      "          [ 0.1420,  0.7852]]],\n",
      "\n",
      "\n",
      "        [[[-0.2799, -0.5731],\n",
      "          [ 1.3980, -1.0286]],\n",
      "\n",
      "         [[-1.5559, -0.8348],\n",
      "          [ 1.2089, -0.2055]]]])\n"
     ]
    }
   ],
   "source": [
    "y = x.view(2,2,2,2)\n",
    "print(y)"
   ]
  },
  {
   "attachments": {},
   "cell_type": "markdown",
   "metadata": {},
   "source": [
    "# Simple Liner regression using Numpy"
   ]
  },
  {
   "cell_type": "code",
   "execution_count": 53,
   "metadata": {},
   "outputs": [],
   "source": [
    "import numpy as np"
   ]
  },
  {
   "cell_type": "code",
   "execution_count": 99,
   "metadata": {},
   "outputs": [],
   "source": [
    "# Training Data\n",
    "X = np.array([1,2,3,4,5], dtype=np.float32)\n",
    "Y = np.array([2,4,6,8,10], dtype=np.float32)\n",
    "\n",
    "# Test Data\n",
    "x_test = np.array([6], dtype=np.float32)\n",
    "y_test = np.array([12], dtype=np.float32)\n",
    "\n",
    "# Weights: A single nuron\n",
    "weights = np.random.rand()"
   ]
  },
  {
   "cell_type": "code",
   "execution_count": 100,
   "metadata": {},
   "outputs": [
    {
     "name": "stdout",
     "output_type": "stream",
     "text": [
      "prediction before training f([6.]): [3.1134367]\n"
     ]
    }
   ],
   "source": [
    "# Forward pass:\n",
    "# Predict the output of the network on the input data.\n",
    "def forward(x, weights):\n",
    "    return x*weights\n",
    "\n",
    "# Calculating gradiants: \n",
    "# dJ/dw = 1/N * 2x *(w*x-y) // w*x = y_pred\n",
    "def backward(x, y, w):\n",
    "    return np.dot(2*x, (w*x-y)).mean()\n",
    "\n",
    "# Model loss function:\n",
    "# MSE = 1/N * sum((y_i - y_hat_i)^2)\n",
    "def mse(y,y_pred):\n",
    "    return np.mean(np.square(y-y_pred))\n",
    "\n",
    "print (f'prediction before training f({x_test}): {forward(x_test, weights)}')    "
   ]
  },
  {
   "cell_type": "code",
   "execution_count": 101,
   "metadata": {},
   "outputs": [
    {
     "name": "stdout",
     "output_type": "stream",
     "text": [
      "Epoch: 0 loss=24.130, weights=2.14810945503594\n",
      "Epoch: 10 loss=0.000, weights=2.0000000976789147\n",
      "Epoch: 20 loss=0.000, weights=2.0000000976789147\n",
      "Epoch: 30 loss=0.000, weights=2.0000000976789147\n",
      "Epoch: 40 loss=0.000, weights=2.0000000976789147\n",
      "Epoch: 50 loss=0.000, weights=2.0000000976789147\n",
      "Epoch: 60 loss=0.000, weights=2.0000000976789147\n",
      "Epoch: 70 loss=0.000, weights=2.0000000976789147\n",
      "Epoch: 80 loss=0.000, weights=2.0000000976789147\n",
      "Epoch: 90 loss=0.000, weights=2.0000000976789147\n",
      "[12.]\n"
     ]
    }
   ],
   "source": [
    "learning_rate = 0.01\n",
    "num_epochs = 100\n",
    "\n",
    "for epoch in range(num_epochs):\n",
    "    # Forward pass: Compute predicted y by passing x to the model\n",
    "    Y_pred = forward(X, weights)\n",
    "\n",
    "    # Compute and print loss\n",
    "    loss = mse(Y, Y_pred)\n",
    "\n",
    "    # Backward pass: Compute gradient of the loss with respect to model parameters\n",
    "    dw = backward(X,Y,weights)\n",
    "\n",
    "    # Update parameters\n",
    "    weights = weights - learning_rate * dw\n",
    "    if (epoch) % 10 == 0:\n",
    "        print(f\"Epoch: {epoch} loss={loss:0.3f}, weights={weights}\")\n",
    "        \n",
    "print (forward(x_test, weights))"
   ]
  },
  {
   "cell_type": "code",
   "execution_count": null,
   "metadata": {},
   "outputs": [],
   "source": []
  },
  {
   "attachments": {},
   "cell_type": "markdown",
   "metadata": {},
   "source": [
    "# Simple linear regression using PyTorch"
   ]
  },
  {
   "cell_type": "code",
   "execution_count": 102,
   "metadata": {},
   "outputs": [],
   "source": [
    "import torch"
   ]
  },
  {
   "cell_type": "code",
   "execution_count": 110,
   "metadata": {},
   "outputs": [],
   "source": [
    "# Training Data\n",
    "X = torch.tensor([1,2,3,4,5], dtype=torch.float32)\n",
    "Y = torch.tensor([2,4,6,8,10], dtype=torch.float32)\n",
    "\n",
    "# Test Data\n",
    "x_test = torch.tensor([6], dtype=torch.float32)\n",
    "y_test = torch.tensor([12], dtype=torch.float32)\n",
    "\n",
    "# Weights: A single nuron\n",
    "weights = torch.randn(1, requires_grad=True, dtype=torch.float32)"
   ]
  },
  {
   "cell_type": "code",
   "execution_count": 114,
   "metadata": {},
   "outputs": [],
   "source": [
    "# Forward pass:\n",
    "# Predict the output of the network on the input data.\n",
    "def forward(x, weights):\n",
    "    return x*weights\n",
    "\n",
    "# Model loss function:\n",
    "# MSE = 1/N * sum((y_i - y_hat_i)^2)\n",
    "def mse(y,y_pred):\n",
    "    return ((y-y_pred)**2).mean()"
   ]
  },
  {
   "cell_type": "code",
   "execution_count": 116,
   "metadata": {},
   "outputs": [
    {
     "name": "stdout",
     "output_type": "stream",
     "text": [
      "Epoch: 0 loss=49.172, weights=tensor([0.9472], requires_grad=True)\n",
      "Epoch: 10 loss=0.139, weights=tensor([1.9122], requires_grad=True)\n",
      "Epoch: 20 loss=0.001, weights=tensor([1.9927], requires_grad=True)\n",
      "Epoch: 30 loss=0.000, weights=tensor([1.9994], requires_grad=True)\n",
      "Epoch: 40 loss=0.000, weights=tensor([1.9999], requires_grad=True)\n",
      "Epoch: 50 loss=0.000, weights=tensor([2.0000], requires_grad=True)\n",
      "Epoch: 60 loss=0.000, weights=tensor([2.0000], requires_grad=True)\n",
      "Epoch: 70 loss=0.000, weights=tensor([2.0000], requires_grad=True)\n",
      "Epoch: 80 loss=0.000, weights=tensor([2.0000], requires_grad=True)\n",
      "Epoch: 90 loss=0.000, weights=tensor([2.0000], requires_grad=True)\n",
      "tensor([12.0000], grad_fn=<MulBackward0>)\n"
     ]
    }
   ],
   "source": [
    "learning_rate = 0.01\n",
    "num_epochs = 100\n",
    "\n",
    "for epoch in range(num_epochs):\n",
    "    y_pred = forward(X, weights)\n",
    "    loss = mse(Y, y_pred)\n",
    "    loss.backward()\n",
    "    with torch.no_grad():\n",
    "        weights -= learning_rate * weights.grad\n",
    "    \n",
    "    weights.grad.zero_()\n",
    "    \n",
    "    if (epoch) % 10 == 0:\n",
    "        print(f\"Epoch: {epoch} loss={loss:0.3f}, weights={weights}\")\n",
    "        \n",
    "print (forward(x_test, weights)) "
   ]
  },
  {
   "attachments": {},
   "cell_type": "markdown",
   "metadata": {},
   "source": [
    "# Linear regression using PyTorch and Its optimizers"
   ]
  },
  {
   "cell_type": "code",
   "execution_count": 117,
   "metadata": {},
   "outputs": [],
   "source": [
    "import torch"
   ]
  },
  {
   "cell_type": "code",
   "execution_count": 176,
   "metadata": {},
   "outputs": [
    {
     "name": "stdout",
     "output_type": "stream",
     "text": [
      "prediction before training f(tensor([6.])): 0.314\n"
     ]
    }
   ],
   "source": [
    "# Training Data\n",
    "X = torch.tensor([[1],[2],[3],[4],[5]], dtype=torch.float32)\n",
    "Y = torch.tensor([[2],[4],[6],[8],[10]], dtype=torch.float32)\n",
    "\n",
    "# Test Data\n",
    "x_test = torch.tensor([6], dtype=torch.float32)\n",
    "y_test = torch.tensor([12], dtype=torch.float32)\n",
    "\n",
    "n_samples, n_features = X.shape\n",
    "\n",
    "input_size = n_features\n",
    "output_size = n_features\n",
    "\n",
    "model = torch.nn.Linear(input_size, output_size)\n",
    "print (f'prediction before training f({x_test}): {model(x_test).item():.3f}')    \n"
   ]
  },
  {
   "cell_type": "code",
   "execution_count": 177,
   "metadata": {},
   "outputs": [
    {
     "name": "stdout",
     "output_type": "stream",
     "text": [
      "Epoch: 0 loss=45.60832, weights=0.29675\n",
      "Epoch: 500 loss=0.00051, weights=0.29675\n",
      "Epoch: 1000 loss=0.00002, weights=0.29675\n",
      "Epoch: 1500 loss=0.00000, weights=0.29675\n",
      "12.000\n"
     ]
    }
   ],
   "source": [
    "learning_rate = 0.01\n",
    "num_epochs = 2000\n",
    "\n",
    "optimizer = torch.optim.SGD(model.parameters(), lr=learning_rate)\n",
    "loss = torch.nn.MSELoss()\n",
    "\n",
    "for epoch in range(num_epochs):\n",
    "    y_pred = model(X)\n",
    "    l = loss(Y, y_pred)\n",
    "    l.backward()\n",
    "    optimizer.step()\n",
    "    optimizer.zero_grad()\n",
    "    \n",
    "    if (epoch) % 500 == 0:\n",
    "        print(f\"Epoch: {epoch} loss={l.item():0.5f}, weights={weights[0].item():0.5f}\")\n",
    "\n",
    "print (f\"{model(x_test).item():0.3f}\") "
   ]
  },
  {
   "attachments": {},
   "cell_type": "markdown",
   "metadata": {},
   "source": [
    "## Turning Model to a class"
   ]
  },
  {
   "cell_type": "code",
   "execution_count": 16,
   "metadata": {},
   "outputs": [],
   "source": [
    "class Model(torch.nn.Module):\n",
    "    \n",
    "    def __init__(self):\n",
    "        super(Model, self).__init__()\n",
    "        self.ll_1 = torch.nn.Linear(1, 1)\n",
    "        \n",
    "    def forward(self, x):\n",
    "        return self.ll_1(x)\n",
    "    \n"
   ]
  },
  {
   "cell_type": "code",
   "execution_count": 180,
   "metadata": {},
   "outputs": [
    {
     "name": "stdout",
     "output_type": "stream",
     "text": [
      "Epoch: 0 loss=25.06746, weights=0.29675\n",
      "Epoch: 500 loss=0.00030, weights=0.29675\n",
      "Epoch: 1000 loss=0.00001, weights=0.29675\n",
      "Epoch: 1500 loss=0.00000, weights=0.29675\n",
      "12.000\n"
     ]
    }
   ],
   "source": [
    "model = Model()\n",
    "\n",
    "learning_rate = 0.01\n",
    "num_epochs = 2000\n",
    "\n",
    "optimizer = torch.optim.SGD(model.parameters(), lr=learning_rate)\n",
    "loss = torch.nn.MSELoss()\n",
    "\n",
    "for epoch in range(num_epochs):\n",
    "    y_pred = model(X)\n",
    "    l = loss(Y, y_pred)\n",
    "    l.backward()\n",
    "    optimizer.step()\n",
    "    optimizer.zero_grad()\n",
    "    \n",
    "    if (epoch) % 500 == 0:\n",
    "        print(f\"Epoch: {epoch} loss={l.item():0.5f}, weights={weights[0].item():0.5f}\")\n",
    "\n",
    "print (f\"{model(x_test).item():0.3f}\") "
   ]
  },
  {
   "attachments": {},
   "cell_type": "markdown",
   "metadata": {},
   "source": [
    "# Linear Regression"
   ]
  },
  {
   "cell_type": "code",
   "execution_count": 8,
   "metadata": {},
   "outputs": [],
   "source": [
    "import torch\n",
    "from sklearn import datasets\n",
    "import matplotlib.pyplot as plt\n",
    "import numpy as np"
   ]
  },
  {
   "cell_type": "code",
   "execution_count": 43,
   "metadata": {},
   "outputs": [],
   "source": [
    "dataset = datasets.make_regression(n_samples=20, n_features=1, noise=20, random_state=1)\n",
    "\n",
    "X, Y = torch.from_numpy(dataset[0].astype(np.float32)), torch.from_numpy(dataset[1].astype(np.float32))\n",
    "Y = Y.view(Y.shape[0], 1)\n",
    "n_samples, n_features = X.shape"
   ]
  },
  {
   "cell_type": "code",
   "execution_count": 44,
   "metadata": {},
   "outputs": [],
   "source": [
    "class Model(torch.nn.Module):\n",
    "    def __init__(self):\n",
    "        super(Model, self).__init__()\n",
    "        self.ll_1 = torch.nn.Linear(1, 1)\n",
    "        \n",
    "    def forward(self, x):\n",
    "        return self.ll_1(x)\n",
    "    \n",
    "    def parameters(self):\n",
    "        return self.ll_1.parameters()"
   ]
  },
  {
   "cell_type": "code",
   "execution_count": 45,
   "metadata": {},
   "outputs": [
    {
     "name": "stdout",
     "output_type": "stream",
     "text": [
      "Epoch: 10, Loss: 4329.4775\n",
      "Epoch: 20, Loss: 2708.6128\n",
      "Epoch: 30, Loss: 1734.7949\n",
      "Epoch: 40, Loss: 1148.6836\n",
      "Epoch: 50, Loss: 795.2168\n",
      "Epoch: 60, Loss: 581.5770\n",
      "Epoch: 70, Loss: 452.1308\n",
      "Epoch: 80, Loss: 373.4837\n",
      "Epoch: 90, Loss: 325.5564\n",
      "Epoch: 100, Loss: 296.2536\n",
      "Epoch: 110, Loss: 278.2736\n",
      "Epoch: 120, Loss: 267.1989\n",
      "Epoch: 130, Loss: 260.3493\n",
      "Epoch: 140, Loss: 256.0942\n",
      "Epoch: 150, Loss: 253.4388\n",
      "Epoch: 160, Loss: 251.7736\n",
      "Epoch: 170, Loss: 250.7242\n",
      "Epoch: 180, Loss: 250.0597\n",
      "Epoch: 190, Loss: 249.6365\n",
      "Epoch: 200, Loss: 249.3657\n",
      "Epoch: 210, Loss: 249.1916\n",
      "Epoch: 220, Loss: 249.0790\n",
      "Epoch: 230, Loss: 249.0059\n",
      "Epoch: 240, Loss: 248.9582\n",
      "Epoch: 250, Loss: 248.9269\n",
      "Epoch: 260, Loss: 248.9063\n",
      "Epoch: 270, Loss: 248.8927\n",
      "Epoch: 280, Loss: 248.8837\n",
      "Epoch: 290, Loss: 248.8777\n",
      "Epoch: 300, Loss: 248.8736\n",
      "Epoch: 310, Loss: 248.8710\n",
      "Epoch: 320, Loss: 248.8692\n",
      "Epoch: 330, Loss: 248.8679\n",
      "Epoch: 340, Loss: 248.8671\n",
      "Epoch: 350, Loss: 248.8665\n",
      "Epoch: 360, Loss: 248.8662\n",
      "Epoch: 370, Loss: 248.8660\n",
      "Epoch: 380, Loss: 248.8658\n",
      "Epoch: 390, Loss: 248.8657\n",
      "Epoch: 400, Loss: 248.8656\n",
      "Epoch: 410, Loss: 248.8655\n",
      "Epoch: 420, Loss: 248.8655\n",
      "Epoch: 430, Loss: 248.8655\n",
      "Epoch: 440, Loss: 248.8655\n",
      "Epoch: 450, Loss: 248.8654\n",
      "Epoch: 460, Loss: 248.8654\n",
      "Epoch: 470, Loss: 248.8654\n",
      "Epoch: 480, Loss: 248.8654\n",
      "Epoch: 490, Loss: 248.8654\n",
      "Epoch: 500, Loss: 248.8654\n",
      "Epoch: 510, Loss: 248.8654\n",
      "Epoch: 520, Loss: 248.8654\n",
      "Epoch: 530, Loss: 248.8654\n",
      "Epoch: 540, Loss: 248.8654\n",
      "Epoch: 550, Loss: 248.8654\n",
      "Epoch: 560, Loss: 248.8654\n",
      "Epoch: 570, Loss: 248.8654\n",
      "Epoch: 580, Loss: 248.8654\n",
      "Epoch: 590, Loss: 248.8654\n",
      "Epoch: 600, Loss: 248.8655\n",
      "Epoch: 610, Loss: 248.8654\n",
      "Epoch: 620, Loss: 248.8654\n",
      "Epoch: 630, Loss: 248.8654\n",
      "Epoch: 640, Loss: 248.8655\n",
      "Epoch: 650, Loss: 248.8655\n",
      "Epoch: 660, Loss: 248.8654\n",
      "Epoch: 670, Loss: 248.8654\n",
      "Epoch: 680, Loss: 248.8654\n",
      "Epoch: 690, Loss: 248.8654\n",
      "Epoch: 700, Loss: 248.8654\n",
      "Epoch: 710, Loss: 248.8654\n",
      "Epoch: 720, Loss: 248.8654\n",
      "Epoch: 730, Loss: 248.8654\n",
      "Epoch: 740, Loss: 248.8654\n",
      "Epoch: 750, Loss: 248.8654\n",
      "Epoch: 760, Loss: 248.8654\n",
      "Epoch: 770, Loss: 248.8654\n",
      "Epoch: 780, Loss: 248.8654\n",
      "Epoch: 790, Loss: 248.8654\n",
      "Epoch: 800, Loss: 248.8654\n",
      "Epoch: 810, Loss: 248.8654\n",
      "Epoch: 820, Loss: 248.8654\n",
      "Epoch: 830, Loss: 248.8654\n",
      "Epoch: 840, Loss: 248.8654\n",
      "Epoch: 850, Loss: 248.8654\n",
      "Epoch: 860, Loss: 248.8654\n",
      "Epoch: 870, Loss: 248.8654\n",
      "Epoch: 880, Loss: 248.8654\n",
      "Epoch: 890, Loss: 248.8654\n",
      "Epoch: 900, Loss: 248.8654\n",
      "Epoch: 910, Loss: 248.8654\n",
      "Epoch: 920, Loss: 248.8654\n",
      "Epoch: 930, Loss: 248.8654\n",
      "Epoch: 940, Loss: 248.8654\n",
      "Epoch: 950, Loss: 248.8654\n",
      "Epoch: 960, Loss: 248.8654\n",
      "Epoch: 970, Loss: 248.8654\n",
      "Epoch: 980, Loss: 248.8654\n",
      "Epoch: 990, Loss: 248.8654\n",
      "Epoch: 1000, Loss: 248.8654\n"
     ]
    },
    {
     "data": {
      "text/plain": [
       "[<matplotlib.lines.Line2D at 0x7f422045a5e0>]"
      ]
     },
     "execution_count": 45,
     "metadata": {},
     "output_type": "execute_result"
    },
    {
     "data": {
      "image/png": "[encoded data removed]",
      "text/plain": [
       "<Figure size 640x480 with 1 Axes>"
      ]
     },
     "metadata": {},
     "output_type": "display_data"
    }
   ],
   "source": [
    "model = Model()\n",
    "\n",
    "criterion = torch.nn.MSELoss()\n",
    "optimizer = torch.optim.SGD(model.parameters(), lr=0.01)\n",
    "\n",
    "num_epochs = 1000\n",
    "\n",
    "for epoch in range(num_epochs):\n",
    "    y_pred = model(X)\n",
    "    loss = criterion(y_pred, Y)\n",
    "    loss.backward()\n",
    "    optimizer.step()\n",
    "    optimizer.zero_grad()\n",
    "    \n",
    "    if (epoch+1) % 10 == 0:\n",
    "        print(f'Epoch: {epoch+1}, Loss: {loss.item():.4f}')\n",
    "\n",
    "prediction = model(X).detach().numpy()\n",
    "\n",
    "plt.plot(X.detach().numpy(), Y.detach().numpy(), 'ro')\n",
    "plt.plot(X.detach().numpy(), prediction, 'b')\n",
    "\n"
   ]
  },
  {
   "attachments": {},
   "cell_type": "markdown",
   "metadata": {},
   "source": [
    "# Logistic Regression"
   ]
  },
  {
   "cell_type": "code",
   "execution_count": 82,
   "metadata": {},
   "outputs": [],
   "source": [
    "import torch\n",
    "import sklearn\n",
    "import matplotlib.pyplot as plt\n",
    "import numpy as np\n",
    "from sklearn.model_selection import train_test_split"
   ]
  },
  {
   "cell_type": "code",
   "execution_count": 92,
   "metadata": {},
   "outputs": [],
   "source": [
    "dataset = sklearn.datasets.load_breast_cancer()\n",
    "X, y = dataset.data, dataset.target\n",
    "\n",
    "n_samples, n_features = X.shape\n",
    "\n",
    "x_train, x_test, y_train, y_test = train_test_split(X, y, test_size=0.2, random_state=42)\n",
    "\n",
    "scaler = sklearn.preprocessing.StandardScaler()\n",
    "\n",
    "x_train = scaler.fit_transform(x_train)\n",
    "x_test = scaler.transform(x_test)\n",
    "\n",
    "x_train = torch.from_numpy(x_train.astype(np.float32))\n",
    "x_test = torch.from_numpy(x_test.astype(np.float32))\n",
    "\n",
    "y_train = torch.from_numpy(y_train.astype(np.float32))\n",
    "y_test = torch.from_numpy(y_test.astype(np.float32))\n",
    "\n",
    "y_train = y_train.view(y_train.shape[0], 1)\n",
    "y_test = y_test.view(y_test.shape[0], 1)"
   ]
  },
  {
   "cell_type": "code",
   "execution_count": 93,
   "metadata": {},
   "outputs": [],
   "source": [
    "class LogisticRegression(torch.nn.Module):\n",
    "    \n",
    "    def __init__(self, num_features):\n",
    "        super(LogisticRegression, self).__init__()\n",
    "        self.linear = torch.nn.Linear(num_features, 1)\n",
    "        \n",
    "    def forward(self, x):\n",
    "        y_pred = torch.sigmoid(self.linear(x))\n",
    "        return y_pred"
   ]
  },
  {
   "cell_type": "code",
   "execution_count": 106,
   "metadata": {},
   "outputs": [
    {
     "name": "stdout",
     "output_type": "stream",
     "text": [
      "epoch: 0, loss: 0.892, accuracy: 0.281\n",
      "epoch: 10, loss: 0.650, accuracy: 0.667\n",
      "epoch: 20, loss: 0.515, accuracy: 0.860\n",
      "epoch: 30, loss: 0.433, accuracy: 0.939\n",
      "epoch: 40, loss: 0.380, accuracy: 0.947\n",
      "epoch: 50, loss: 0.342, accuracy: 0.965\n",
      "epoch: 60, loss: 0.315, accuracy: 0.965\n",
      "epoch: 70, loss: 0.293, accuracy: 0.965\n",
      "epoch: 80, loss: 0.276, accuracy: 0.965\n",
      "epoch: 90, loss: 0.262, accuracy: 0.965\n"
     ]
    }
   ],
   "source": [
    "model = LogisticRegression(n_features)\n",
    "\n",
    "criterion = torch.nn.BCELoss()\n",
    "optimizer = torch.optim.SGD(model.parameters(), lr=0.01)\n",
    "\n",
    "for epoch in range(100):\n",
    "    y_pred = model(x_train)\n",
    "    loss = criterion(y_pred, y_train)\n",
    "    loss.backward()\n",
    "    optimizer.step()\n",
    "    optimizer.zero_grad()\n",
    "    if epoch % 10 == 0:\n",
    "        with torch.no_grad():\n",
    "            prediction = model(x_test).round()\n",
    "            accuracy = prediction.eq(y_test).sum().item() / len(y_test)\n",
    "            print(f'epoch: {epoch}, loss: {loss.item():.03f}, accuracy: {accuracy:.03f}')    "
   ]
  },
  {
   "cell_type": "code",
   "execution_count": null,
   "metadata": {},
   "outputs": [],
   "source": []
  }
 ],
 "metadata": {
  "kernelspec": {
   "display_name": "torch",
   "language": "python",
   "name": "python3"
  },
  "language_info": {
   "codemirror_mode": {
    "name": "ipython",
    "version": 3
   },
   "file_extension": ".py",
   "mimetype": "text/x-python",
   "name": "python",
   "nbconvert_exporter": "python",
   "pygments_lexer": "ipython3",
   "version": "3.9.16"
  },
  "orig_nbformat": 4
 },
 "nbformat": 4,
 "nbformat_minor": 2
}
